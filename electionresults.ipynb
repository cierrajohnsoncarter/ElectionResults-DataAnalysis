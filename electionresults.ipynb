{
  "nbformat": 4,
  "nbformat_minor": 0,
  "metadata": {
    "colab": {
      "name": "electionresults.ipynb",
      "provenance": [],
      "collapsed_sections": [],
      "authorship_tag": "ABX9TyMmGJjg+hHT3yqhekU4Dd7W"
    },
    "kernelspec": {
      "name": "python3",
      "display_name": "Python 3"
    }
  },
  "cells": [
    {
      "cell_type": "markdown",
      "metadata": {
        "id": "ITwq9MNBtosC",
        "colab_type": "text"
      },
      "source": [
        "Import the libraries"
      ]
    },
    {
      "cell_type": "code",
      "metadata": {
        "id": "TQWfDL4itlPd",
        "colab_type": "code",
        "colab": {}
      },
      "source": [
        "import numpy as np\n",
        "import matplotlib.pyplot as plt"
      ],
      "execution_count": 0,
      "outputs": []
    },
    {
      "cell_type": "markdown",
      "metadata": {
        "id": "j9RUf9OVt2uD",
        "colab_type": "text"
      },
      "source": [
        "List of survey responses"
      ]
    },
    {
      "cell_type": "code",
      "metadata": {
        "id": "bAdOgrC7t5Q7",
        "colab_type": "code",
        "colab": {}
      },
      "source": [
        "survey_responses = ['Ceballos', 'Kerrigan', 'Ceballos', 'Ceballos', 'Ceballos','Kerrigan', 'Kerrigan', 'Ceballos', 'Ceballos', 'Ceballos', \n",
        "'Kerrigan', 'Kerrigan', 'Ceballos', 'Ceballos', 'Kerrigan', 'Kerrigan', 'Ceballos', 'Ceballos', 'Kerrigan', 'Kerrigan', 'Kerrigan', 'Kerrigan', 'Kerrigan', 'Kerrigan', 'Ceballos', 'Ceballos', 'Ceballos', 'Ceballos', 'Ceballos', 'Ceballos',\n",
        "'Kerrigan', 'Kerrigan', 'Ceballos', 'Ceballos', 'Ceballos', 'Kerrigan', 'Kerrigan', 'Ceballos', 'Ceballos', 'Kerrigan', 'Kerrigan', 'Ceballos', 'Ceballos', 'Kerrigan', 'Kerrigan', 'Kerrigan', 'Kerrigan', 'Kerrigan', 'Kerrigan', 'Ceballos',\n",
        "'Kerrigan', 'Kerrigan', 'Ceballos', 'Ceballos', 'Ceballos', 'Kerrigan', 'Kerrigan', 'Ceballos', 'Ceballos', 'Kerrigan', 'Kerrigan', 'Ceballos', 'Ceballos', 'Kerrigan', 'Kerrigan', 'Kerrigan', 'Kerrigan', 'Kerrigan', 'Kerrigan', 'Ceballos']"
      ],
      "execution_count": 0,
      "outputs": []
    },
    {
      "cell_type": "markdown",
      "metadata": {
        "id": "8FB1dxWQt7sP",
        "colab_type": "text"
      },
      "source": [
        "Calculate the number of people who answered 'Ceballos'"
      ]
    },
    {
      "cell_type": "code",
      "metadata": {
        "id": "5tjlCDvDt_Zg",
        "colab_type": "code",
        "colab": {
          "base_uri": "https://localhost:8080/",
          "height": 35
        },
        "outputId": "ea0c6eb0-a6b7-413c-ff2d-fd1626ad494e"
      },
      "source": [
        "total_ceballos = sum([1 for n in survey_responses if n == 'Ceballos'])\n",
        "print(total_ceballos)"
      ],
      "execution_count": 3,
      "outputs": [
        {
          "output_type": "stream",
          "text": [
            "33\n"
          ],
          "name": "stdout"
        }
      ]
    },
    {
      "cell_type": "markdown",
      "metadata": {
        "id": "SZlddNXnuHLD",
        "colab_type": "text"
      },
      "source": [
        "Calculate the percentage of people who voted for Ceballos"
      ]
    },
    {
      "cell_type": "code",
      "metadata": {
        "id": "ZHQma9awuLW_",
        "colab_type": "code",
        "colab": {
          "base_uri": "https://localhost:8080/",
          "height": 35
        },
        "outputId": "370c5a3a-adf5-4f41-db66-d64c96f6a095"
      },
      "source": [
        "survey_length = float(len(survey_responses))\n",
        "\n",
        "percentage_ceballos = total_ceballos/survey_length\n",
        "print(percentage_ceballos)"
      ],
      "execution_count": 4,
      "outputs": [
        {
          "output_type": "stream",
          "text": [
            "0.4714285714285714\n"
          ],
          "name": "stdout"
        }
      ]
    },
    {
      "cell_type": "markdown",
      "metadata": {
        "id": "hm1GESi1uYI9",
        "colab_type": "text"
      },
      "source": [
        "Generate a binomal distribution to analyze the poll"
      ]
    },
    {
      "cell_type": "code",
      "metadata": {
        "id": "lBtD1BW7uZAe",
        "colab_type": "code",
        "colab": {}
      },
      "source": [
        "possible_surveys = np.random.binomial(survey_length, .54, size=10000) / survey_length"
      ],
      "execution_count": 0,
      "outputs": []
    },
    {
      "cell_type": "markdown",
      "metadata": {
        "id": "clJWtLdfufa_",
        "colab_type": "text"
      },
      "source": [
        "Plot a histogram of possible surveys"
      ]
    },
    {
      "cell_type": "code",
      "metadata": {
        "id": "deLCjDnnujXB",
        "colab_type": "code",
        "colab": {
          "base_uri": "https://localhost:8080/",
          "height": 265
        },
        "outputId": "841f0df7-f4ea-44d3-9a4b-1da8f60fc153"
      },
      "source": [
        "plt.hist(possible_surveys, range=(0, 1), bins=20)\n",
        "plt.show()"
      ],
      "execution_count": 7,
      "outputs": [
        {
          "output_type": "display_data",
          "data": {
            "image/png": "[encoded data removed]",
            "text/plain": [
              "<Figure size 432x288 with 1 Axes>"
            ]
          },
          "metadata": {
            "tags": [],
            "needs_background": "light"
          }
        }
      ]
    },
    {
      "cell_type": "markdown",
      "metadata": {
        "id": "q3KGTSq1unDK",
        "colab_type": "text"
      },
      "source": [
        "Calculate the percentage of surveys that could have an outcome of Ceballos receiving less than 50% of the vote"
      ]
    },
    {
      "cell_type": "code",
      "metadata": {
        "id": "dWcfrMd2uqWk",
        "colab_type": "code",
        "colab": {
          "base_uri": "https://localhost:8080/",
          "height": 35
        },
        "outputId": "b8c20b06-5720-49aa-9c58-68856c58a890"
      },
      "source": [
        "ceballos_loss_surveys = np.mean(possible_surveys < 0.5)\n",
        "print(ceballos_loss_surveys)"
      ],
      "execution_count": 8,
      "outputs": [
        {
          "output_type": "stream",
          "text": [
            "0.2115\n"
          ],
          "name": "stdout"
        }
      ]
    },
    {
      "cell_type": "markdown",
      "metadata": {
        "id": "DR7Jn-zrut_F",
        "colab_type": "text"
      },
      "source": [
        "Generate a binomial distribution if 7000 people were surveyed"
      ]
    },
    {
      "cell_type": "code",
      "metadata": {
        "id": "HI3pv5XBuwkb",
        "colab_type": "code",
        "colab": {}
      },
      "source": [
        "large_survey_length = float(7000)\n",
        "large_survey = np.random.binomial(large_survey_length, .54, size=10000) / large_survey_length"
      ],
      "execution_count": 0,
      "outputs": []
    },
    {
      "cell_type": "markdown",
      "metadata": {
        "id": "zo5sIfzJuzdf",
        "colab_type": "text"
      },
      "source": [
        "Recalculate the percentage of surveys that would have an outcome of Ceballos losing"
      ]
    },
    {
      "cell_type": "code",
      "metadata": {
        "id": "8ghAHwr7u2aR",
        "colab_type": "code",
        "colab": {
          "base_uri": "https://localhost:8080/",
          "height": 35
        },
        "outputId": "e02f958a-d922-4af0-d613-06f56b05b7d0"
      },
      "source": [
        "incorrect_predictions = len(large_survey[large_survey < .5])\n",
        "\n",
        "ceballos_loss_new = incorrect_predictions / large_survey_length\n",
        "print(ceballos_loss_new)"
      ],
      "execution_count": 14,
      "outputs": [
        {
          "output_type": "stream",
          "text": [
            "0.0\n"
          ],
          "name": "stdout"
        }
      ]
    },
    {
      "cell_type": "markdown",
      "metadata": {
        "id": "w7USje8OxSgY",
        "colab_type": "text"
      },
      "source": [
        "Visualize the new data"
      ]
    },
    {
      "cell_type": "code",
      "metadata": {
        "id": "uRANagqlxVN0",
        "colab_type": "code",
        "colab": {
          "base_uri": "https://localhost:8080/",
          "height": 265
        },
        "outputId": "118d0095-11f1-4775-b8d0-ecf4b1b03fb1"
      },
      "source": [
        "plt.hist(possible_surveys, range=(0, 1), bins=20)\n",
        "plt.hist(large_survey, alpha=0.5, range=(0, 1), bins=20)\n",
        "plt.show()"
      ],
      "execution_count": 15,
      "outputs": [
        {
          "output_type": "display_data",
          "data": {
            "image/png": "[encoded data removed]",
            "text/plain": [
              "<Figure size 432x288 with 1 Axes>"
            ]
          },
          "metadata": {
            "tags": [],
            "needs_background": "light"
          }
        }
      ]
    }
  ]
}